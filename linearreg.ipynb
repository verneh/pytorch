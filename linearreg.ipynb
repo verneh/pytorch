{
  "nbformat": 4,
  "nbformat_minor": 0,
  "metadata": {
    "colab": {
      "provenance": [],
      "authorship_tag": "ABX9TyPe3NJQPk/0lhz7bYwmN1WT",
      "include_colab_link": true
    },
    "kernelspec": {
      "name": "python3",
      "display_name": "Python 3"
    },
    "language_info": {
      "name": "python"
    }
  },
  "cells": [
    {
      "cell_type": "markdown",
      "metadata": {
        "id": "view-in-github",
        "colab_type": "text"
      },
      "source": [
        "<a href=\"https://colab.research.google.com/github/verneh/pytorch/blob/main/linearreg.ipynb\" target=\"_parent\"><img src=\"https://colab.research.google.com/assets/colab-badge.svg\" alt=\"Open In Colab\"/></a>"
      ]
    },
    {
      "cell_type": "code",
      "execution_count": 1,
      "metadata": {
        "colab": {
          "base_uri": "https://localhost:8080/",
          "height": 35
        },
        "id": "-oaYxbymECMC",
        "outputId": "92400394-eef6-41f8-bec8-f73dc76619e4"
      },
      "outputs": [
        {
          "output_type": "execute_result",
          "data": {
            "text/plain": [
              "'1.12.1+cu113'"
            ],
            "application/vnd.google.colaboratory.intrinsic+json": {
              "type": "string"
            }
          },
          "metadata": {},
          "execution_count": 1
        }
      ],
      "source": [
        "from torch import nn\n",
        "\n",
        "import matplotlib.pyplot as plt \n",
        "import torch\n",
        "torch.__version__"
      ]
    },
    {
      "cell_type": "code",
      "source": [
        "# Setup device-agnostic code\n",
        "device = \"cuda\" if torch.cuda.is_available() else \"cpu\"\n",
        "device"
      ],
      "metadata": {
        "colab": {
          "base_uri": "https://localhost:8080/",
          "height": 35
        },
        "id": "fgSGKoyDbgBP",
        "outputId": "d471c3a3-ecb6-4e5b-cf23-dd59d11ab98c"
      },
      "execution_count": 3,
      "outputs": [
        {
          "output_type": "execute_result",
          "data": {
            "text/plain": [
              "'cpu'"
            ],
            "application/vnd.google.colaboratory.intrinsic+json": {
              "type": "string"
            }
          },
          "metadata": {},
          "execution_count": 3
        }
      ]
    },
    {
      "cell_type": "code",
      "source": [
        "# Create *known* parameters\n",
        "weight = 0.9\n",
        "bias = 0.3\n",
        "\n",
        "# Create data\n",
        "start = 0\n",
        "end = 1\n",
        "step = 0.005\n",
        "\n",
        "# without unsqueeze, errors will happen later on (shapes within linear layers)\n",
        "X = torch.arange(start, end, step).unsqueeze(dim=1)\n",
        "\n",
        "# Simple equation.\n",
        "y = weight * X + bias\n",
        "\n",
        "# datapoints\n",
        "X[:100], y[:100]"
      ],
      "metadata": {
        "id": "vSduTkfehO4D",
        "colab": {
          "base_uri": "https://localhost:8080/"
        },
        "outputId": "fcdbcc81-9640-4ae7-f0ae-a03499070fae"
      },
      "execution_count": 4,
      "outputs": [
        {
          "output_type": "execute_result",
          "data": {
            "text/plain": [
              "(tensor([[0.0000],\n",
              "         [0.0050],\n",
              "         [0.0100],\n",
              "         [0.0150],\n",
              "         [0.0200],\n",
              "         [0.0250],\n",
              "         [0.0300],\n",
              "         [0.0350],\n",
              "         [0.0400],\n",
              "         [0.0450],\n",
              "         [0.0500],\n",
              "         [0.0550],\n",
              "         [0.0600],\n",
              "         [0.0650],\n",
              "         [0.0700],\n",
              "         [0.0750],\n",
              "         [0.0800],\n",
              "         [0.0850],\n",
              "         [0.0900],\n",
              "         [0.0950],\n",
              "         [0.1000],\n",
              "         [0.1050],\n",
              "         [0.1100],\n",
              "         [0.1150],\n",
              "         [0.1200],\n",
              "         [0.1250],\n",
              "         [0.1300],\n",
              "         [0.1350],\n",
              "         [0.1400],\n",
              "         [0.1450],\n",
              "         [0.1500],\n",
              "         [0.1550],\n",
              "         [0.1600],\n",
              "         [0.1650],\n",
              "         [0.1700],\n",
              "         [0.1750],\n",
              "         [0.1800],\n",
              "         [0.1850],\n",
              "         [0.1900],\n",
              "         [0.1950],\n",
              "         [0.2000],\n",
              "         [0.2050],\n",
              "         [0.2100],\n",
              "         [0.2150],\n",
              "         [0.2200],\n",
              "         [0.2250],\n",
              "         [0.2300],\n",
              "         [0.2350],\n",
              "         [0.2400],\n",
              "         [0.2450],\n",
              "         [0.2500],\n",
              "         [0.2550],\n",
              "         [0.2600],\n",
              "         [0.2650],\n",
              "         [0.2700],\n",
              "         [0.2750],\n",
              "         [0.2800],\n",
              "         [0.2850],\n",
              "         [0.2900],\n",
              "         [0.2950],\n",
              "         [0.3000],\n",
              "         [0.3050],\n",
              "         [0.3100],\n",
              "         [0.3150],\n",
              "         [0.3200],\n",
              "         [0.3250],\n",
              "         [0.3300],\n",
              "         [0.3350],\n",
              "         [0.3400],\n",
              "         [0.3450],\n",
              "         [0.3500],\n",
              "         [0.3550],\n",
              "         [0.3600],\n",
              "         [0.3650],\n",
              "         [0.3700],\n",
              "         [0.3750],\n",
              "         [0.3800],\n",
              "         [0.3850],\n",
              "         [0.3900],\n",
              "         [0.3950],\n",
              "         [0.4000],\n",
              "         [0.4050],\n",
              "         [0.4100],\n",
              "         [0.4150],\n",
              "         [0.4200],\n",
              "         [0.4250],\n",
              "         [0.4300],\n",
              "         [0.4350],\n",
              "         [0.4400],\n",
              "         [0.4450],\n",
              "         [0.4500],\n",
              "         [0.4550],\n",
              "         [0.4600],\n",
              "         [0.4650],\n",
              "         [0.4700],\n",
              "         [0.4750],\n",
              "         [0.4800],\n",
              "         [0.4850],\n",
              "         [0.4900],\n",
              "         [0.4950]]), tensor([[0.3000],\n",
              "         [0.3045],\n",
              "         [0.3090],\n",
              "         [0.3135],\n",
              "         [0.3180],\n",
              "         [0.3225],\n",
              "         [0.3270],\n",
              "         [0.3315],\n",
              "         [0.3360],\n",
              "         [0.3405],\n",
              "         [0.3450],\n",
              "         [0.3495],\n",
              "         [0.3540],\n",
              "         [0.3585],\n",
              "         [0.3630],\n",
              "         [0.3675],\n",
              "         [0.3720],\n",
              "         [0.3765],\n",
              "         [0.3810],\n",
              "         [0.3855],\n",
              "         [0.3900],\n",
              "         [0.3945],\n",
              "         [0.3990],\n",
              "         [0.4035],\n",
              "         [0.4080],\n",
              "         [0.4125],\n",
              "         [0.4170],\n",
              "         [0.4215],\n",
              "         [0.4260],\n",
              "         [0.4305],\n",
              "         [0.4350],\n",
              "         [0.4395],\n",
              "         [0.4440],\n",
              "         [0.4485],\n",
              "         [0.4530],\n",
              "         [0.4575],\n",
              "         [0.4620],\n",
              "         [0.4665],\n",
              "         [0.4710],\n",
              "         [0.4755],\n",
              "         [0.4800],\n",
              "         [0.4845],\n",
              "         [0.4890],\n",
              "         [0.4935],\n",
              "         [0.4980],\n",
              "         [0.5025],\n",
              "         [0.5070],\n",
              "         [0.5115],\n",
              "         [0.5160],\n",
              "         [0.5205],\n",
              "         [0.5250],\n",
              "         [0.5295],\n",
              "         [0.5340],\n",
              "         [0.5385],\n",
              "         [0.5430],\n",
              "         [0.5475],\n",
              "         [0.5520],\n",
              "         [0.5565],\n",
              "         [0.5610],\n",
              "         [0.5655],\n",
              "         [0.5700],\n",
              "         [0.5745],\n",
              "         [0.5790],\n",
              "         [0.5835],\n",
              "         [0.5880],\n",
              "         [0.5925],\n",
              "         [0.5970],\n",
              "         [0.6015],\n",
              "         [0.6060],\n",
              "         [0.6105],\n",
              "         [0.6150],\n",
              "         [0.6195],\n",
              "         [0.6240],\n",
              "         [0.6285],\n",
              "         [0.6330],\n",
              "         [0.6375],\n",
              "         [0.6420],\n",
              "         [0.6465],\n",
              "         [0.6510],\n",
              "         [0.6555],\n",
              "         [0.6600],\n",
              "         [0.6645],\n",
              "         [0.6690],\n",
              "         [0.6735],\n",
              "         [0.6780],\n",
              "         [0.6825],\n",
              "         [0.6870],\n",
              "         [0.6915],\n",
              "         [0.6960],\n",
              "         [0.7005],\n",
              "         [0.7050],\n",
              "         [0.7095],\n",
              "         [0.7140],\n",
              "         [0.7185],\n",
              "         [0.7230],\n",
              "         [0.7275],\n",
              "         [0.7320],\n",
              "         [0.7365],\n",
              "         [0.7410],\n",
              "         [0.7455]]))"
            ]
          },
          "metadata": {},
          "execution_count": 4
        }
      ]
    },
    {
      "cell_type": "code",
      "source": [
        "# Split data\n",
        "train_split = int(0.8 * len(X))\n",
        "X_train, y_train = X[:train_split], y[:train_split]\n",
        "X_test, y_test = X[train_split:], y[train_split:]\n",
        "\n",
        "len(X_train), len(y_train), len(X_test), len(y_test)"
      ],
      "metadata": {
        "colab": {
          "base_uri": "https://localhost:8080/"
        },
        "id": "mphOdZWeXpZ_",
        "outputId": "31869c3d-ec0a-444c-d9fe-90c6140b33f3"
      },
      "execution_count": 5,
      "outputs": [
        {
          "output_type": "execute_result",
          "data": {
            "text/plain": [
              "(160, 160, 40, 40)"
            ]
          },
          "metadata": {},
          "execution_count": 5
        }
      ]
    },
    {
      "cell_type": "code",
      "source": [
        "# Function definition.\n",
        "def plot_predictions(train_data=X_train, \n",
        "                     train_labels=y_train, \n",
        "                     test_data=X_test, \n",
        "                     test_labels=y_test, \n",
        "                     predictions=None):\n",
        "  \"\"\"\n",
        "  Plots training data, test data and compares predictions.\n",
        "  \"\"\"\n",
        "  plt.figure(figsize=(10, 7))\n",
        "\n",
        "  # Plot training data in blue\n",
        "  plt.scatter(train_data, train_labels, c=\"b\", s=4, label=\"Training data\")\n",
        "  \n",
        "  # Plot test data in green\n",
        "  plt.scatter(test_data, test_labels, c=\"g\", s=4, label=\"Testing data\")\n",
        "\n",
        "  if predictions is not None:\n",
        "    # Plot the predictions in red (predictions were made on the test data)\n",
        "    plt.scatter(test_data, predictions, c=\"r\", s=4, label=\"Predictions\")\n",
        "\n",
        "  # Show the legend\n",
        "  plt.legend(prop={\"size\": 14});"
      ],
      "metadata": {
        "id": "QbF-1v5xY5H-"
      },
      "execution_count": 6,
      "outputs": []
    },
    {
      "cell_type": "code",
      "source": [
        "plot_predictions(X_train, y_train, X_test, y_test)"
      ],
      "metadata": {
        "colab": {
          "base_uri": "https://localhost:8080/",
          "height": 428
        },
        "id": "qvh0XEZSYr98",
        "outputId": "7ef997f7-3f99-4e76-9695-417622d7cf3a"
      },
      "execution_count": 7,
      "outputs": [
        {
          "output_type": "display_data",
          "data": {
            "text/plain": [
              "<Figure size 720x504 with 1 Axes>"
            ],
            "image/png": "[encoded data removed]"
          },
          "metadata": {
            "needs_background": "light"
          }
        }
      ]
    },
    {
      "cell_type": "code",
      "source": [
        "# Subcless nn.Module\n",
        "\n",
        "class LinearRegressionModel(nn.Module):\n",
        "    def __init__(self):\n",
        "      super().__init__()\n",
        "      self.weight = nn.Parameter(data=torch.randn(1, \n",
        "                                              requires_grad=True,\n",
        "                                              dtype=torch.float\n",
        "                                              ))\n",
        "    \n",
        "      self.bias = nn.Parameter(data=torch.randn(1, \n",
        "                                              requires_grad=True,\n",
        "                                              dtype=torch.float\n",
        "                                              ))\n",
        "\n",
        "    def forward(self, x):\n",
        "      return self.weight * x + self.bias\n",
        "\n",
        "  ## Option 2 (same as above instead using nn.Linear())\n",
        "# class LinearRegressionModel(nn.Module):\n",
        "#   def __init__(self):\n",
        "#     super().__init__()\n",
        "#     self.linear_layer = nn.Linear(in_features=1, \n",
        "#                                   out_features=1)\n",
        "  \n",
        "#   def forward(self, x):\n",
        "#     return self.linear_layer(x)"
      ],
      "metadata": {
        "id": "mTedi8PIYexr"
      },
      "execution_count": 8,
      "outputs": []
    },
    {
      "cell_type": "code",
      "source": [
        "# Instantiate the model\n",
        "model = LinearRegressionModel().to(device)\n",
        "model"
      ],
      "metadata": {
        "colab": {
          "base_uri": "https://localhost:8080/"
        },
        "id": "Tu-LCffmbYT3",
        "outputId": "26248bca-227b-494e-fe85-35cc3d1f70a5"
      },
      "execution_count": 9,
      "outputs": [
        {
          "output_type": "execute_result",
          "data": {
            "text/plain": [
              "LinearRegressionModel()"
            ]
          },
          "metadata": {},
          "execution_count": 9
        }
      ]
    },
    {
      "cell_type": "code",
      "source": [
        "# Create the loss function and optimizer\n",
        "loss_fn = nn.L1Loss()\n",
        "optimizer = torch.optim.SGD(params=model.parameters(), lr=0.01)"
      ],
      "metadata": {
        "id": "A1ciaVW1byGq"
      },
      "execution_count": 10,
      "outputs": []
    },
    {
      "cell_type": "code",
      "source": [
        "# Training loop\n",
        "torch.manual_seed(42)\n",
        "\n",
        "# Train model for 300 epochs\n",
        "epochs = 300\n",
        "\n",
        "# Send data to device\n",
        "X_train, y_train = X_train.to(device), y_train.to(device)\n",
        "X_test, y_test = X_test.to(device), y_test.to(device)\n",
        "\n",
        "for epoch in range(epochs):\n",
        "  ### Training\n",
        "\n",
        "  # Model in train mode\n",
        "  model.train()\n",
        "\n",
        "  # 1. Forward pass\n",
        "  y_preds = model(X_train)\n",
        "\n",
        "  # 2. Calculate loss\n",
        "  loss = loss_fn(y_preds, y_train)\n",
        "\n",
        "  # 3. Zero gradients\n",
        "  optimizer.zero_grad()\n",
        "\n",
        "  # 4. Backpropagation\n",
        "  loss.backward()\n",
        "\n",
        "  # 5. Step the optimizer\n",
        "  optimizer.step()\n",
        "\n",
        "  ### Perform testing every 20 epochs\n",
        "  if epoch % 20 == 0:\n",
        "\n",
        "    # Put model in evaluation mode and setup inference context \n",
        "    model.eval()\n",
        "    with torch.inference_mode():\n",
        "      # 1. Forward pass\n",
        "      test_pred = model(X_test)\n",
        "      # 2. Calculate loss\n",
        "      test_loss = loss_fn(test_pred, y_test)\n",
        "\n",
        "      # Print out what's happening\n",
        "      print(f\"Epoch: {epoch} | Train loss: {loss:.3f} | Test loss: {test_loss:.3f}\")"
      ],
      "metadata": {
        "colab": {
          "base_uri": "https://localhost:8080/"
        },
        "id": "M9K_z9eLft3U",
        "outputId": "6d79311c-5744-4f83-da37-1567fa20926a"
      },
      "execution_count": 11,
      "outputs": [
        {
          "output_type": "stream",
          "name": "stdout",
          "text": [
            "Epoch: 0 | Train loss: 2.354 | Test loss: 2.952\n",
            "Epoch: 20 | Train loss: 2.123 | Test loss: 2.681\n",
            "Epoch: 40 | Train loss: 1.891 | Test loss: 2.410\n",
            "Epoch: 60 | Train loss: 1.660 | Test loss: 2.138\n",
            "Epoch: 80 | Train loss: 1.428 | Test loss: 1.867\n",
            "Epoch: 100 | Train loss: 1.196 | Test loss: 1.596\n",
            "Epoch: 120 | Train loss: 0.965 | Test loss: 1.324\n",
            "Epoch: 140 | Train loss: 0.733 | Test loss: 1.053\n",
            "Epoch: 160 | Train loss: 0.502 | Test loss: 0.782\n",
            "Epoch: 180 | Train loss: 0.270 | Test loss: 0.510\n",
            "Epoch: 200 | Train loss: 0.103 | Test loss: 0.284\n",
            "Epoch: 220 | Train loss: 0.075 | Test loss: 0.194\n",
            "Epoch: 240 | Train loss: 0.067 | Test loss: 0.161\n",
            "Epoch: 260 | Train loss: 0.060 | Test loss: 0.141\n",
            "Epoch: 280 | Train loss: 0.054 | Test loss: 0.125\n"
          ]
        }
      ]
    },
    {
      "cell_type": "code",
      "source": [
        "# Make predictions with the model\n",
        "model.eval()\n",
        "with torch.inference_mode():\n",
        "  y_preds = model(X_test)\n",
        "y_preds[:10]"
      ],
      "metadata": {
        "colab": {
          "base_uri": "https://localhost:8080/"
        },
        "id": "hYGXqPulhDrM",
        "outputId": "fd8df311-adf2-438c-b6ef-b9d83b074219"
      },
      "execution_count": 12,
      "outputs": [
        {
          "output_type": "execute_result",
          "data": {
            "text/plain": [
              "tensor([[0.9329],\n",
              "        [0.9362],\n",
              "        [0.9396],\n",
              "        [0.9429],\n",
              "        [0.9463],\n",
              "        [0.9496],\n",
              "        [0.9529],\n",
              "        [0.9563],\n",
              "        [0.9596],\n",
              "        [0.9629]])"
            ]
          },
          "metadata": {},
          "execution_count": 12
        }
      ]
    },
    {
      "cell_type": "code",
      "source": [
        "# Plot the predictions\n",
        "plot_predictions(predictions=y_preds.cpu());"
      ],
      "metadata": {
        "colab": {
          "base_uri": "https://localhost:8080/",
          "height": 428
        },
        "id": "YAdLS8XwhL0N",
        "outputId": "e746913f-4961-4d3e-9960-a4e8310c26bf"
      },
      "execution_count": 13,
      "outputs": [
        {
          "output_type": "display_data",
          "data": {
            "text/plain": [
              "<Figure size 720x504 with 1 Axes>"
            ],
            "image/png": "[encoded data removed]"
          },
          "metadata": {
            "needs_background": "light"
          }
        }
      ]
    },
    {
      "cell_type": "code",
      "source": [
        "from pathlib import Path\n",
        "\n",
        "# 1. Create models directory \n",
        "MODEL_PATH = Path(\"models\")\n",
        "MODEL_PATH.mkdir(parents=True, exist_ok=True)\n",
        "\n",
        "# 2. Create model save path \n",
        "MODEL_NAME = \"lr_model.pth\"\n",
        "MODEL_SAVE_PATH = MODEL_PATH / MODEL_NAME\n",
        "\n",
        "# 3. Save the model state dict\n",
        "print(f\"Saving model to: {MODEL_SAVE_PATH}\")\n",
        "torch.save(obj=model.state_dict(),\n",
        "           f=MODEL_SAVE_PATH)"
      ],
      "metadata": {
        "colab": {
          "base_uri": "https://localhost:8080/"
        },
        "id": "2RcGnpKvhUW2",
        "outputId": "64a0a72b-403e-41dc-e2fb-8ed592fad0a8"
      },
      "execution_count": 14,
      "outputs": [
        {
          "output_type": "stream",
          "name": "stdout",
          "text": [
            "Saving model to: models/lr_model.pth\n"
          ]
        }
      ]
    },
    {
      "cell_type": "code",
      "source": [
        "# Create new instance of model and load saved state dict (make sure to put it on the target device)\n",
        "loaded_model = LinearRegressionModel()\n",
        "loaded_model.load_state_dict(torch.load(MODEL_SAVE_PATH))\n",
        "loaded_model.to(device)"
      ],
      "metadata": {
        "colab": {
          "base_uri": "https://localhost:8080/"
        },
        "id": "ZaJRPxrFhchu",
        "outputId": "d68b240d-e95a-4447-84bf-e052cd707f6b"
      },
      "execution_count": 15,
      "outputs": [
        {
          "output_type": "execute_result",
          "data": {
            "text/plain": [
              "LinearRegressionModel()"
            ]
          },
          "metadata": {},
          "execution_count": 15
        }
      ]
    },
    {
      "cell_type": "code",
      "source": [
        "# Make predictions with loaded model and compare them to the previous\n",
        "loaded_model.eval()\n",
        "with torch.inference_mode():\n",
        "  loaded_preds = loaded_model(X_test)\n",
        "y_preds == loaded_preds"
      ],
      "metadata": {
        "colab": {
          "base_uri": "https://localhost:8080/"
        },
        "id": "s_IYb49rhfOu",
        "outputId": "bf40b263-84a1-4328-a852-eb57e7babd68"
      },
      "execution_count": 16,
      "outputs": [
        {
          "output_type": "execute_result",
          "data": {
            "text/plain": [
              "tensor([[True],\n",
              "        [True],\n",
              "        [True],\n",
              "        [True],\n",
              "        [True],\n",
              "        [True],\n",
              "        [True],\n",
              "        [True],\n",
              "        [True],\n",
              "        [True],\n",
              "        [True],\n",
              "        [True],\n",
              "        [True],\n",
              "        [True],\n",
              "        [True],\n",
              "        [True],\n",
              "        [True],\n",
              "        [True],\n",
              "        [True],\n",
              "        [True],\n",
              "        [True],\n",
              "        [True],\n",
              "        [True],\n",
              "        [True],\n",
              "        [True],\n",
              "        [True],\n",
              "        [True],\n",
              "        [True],\n",
              "        [True],\n",
              "        [True],\n",
              "        [True],\n",
              "        [True],\n",
              "        [True],\n",
              "        [True],\n",
              "        [True],\n",
              "        [True],\n",
              "        [True],\n",
              "        [True],\n",
              "        [True],\n",
              "        [True]])"
            ]
          },
          "metadata": {},
          "execution_count": 16
        }
      ]
    }
  ]
}